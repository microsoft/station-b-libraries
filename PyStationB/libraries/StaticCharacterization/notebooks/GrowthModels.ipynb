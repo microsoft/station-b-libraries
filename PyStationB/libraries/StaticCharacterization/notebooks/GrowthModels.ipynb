{
 "cells": [
  {
   "cell_type": "markdown",
   "source": [
    "# Growth models\r\n",
    "\r\n",
    "This notebook focuses on the development and exploration of growth models and their properties."
   ],
   "metadata": {
    "collapsed": false,
    "pycharm": {
     "name": "#%% md\n"
    }
   }
  },
  {
   "cell_type": "code",
   "execution_count": null,
   "source": [
    "import numpy as np\r\n",
    "import matplotlib.pyplot as plt\r\n",
    "from scipy.optimize import curve_fit\r\n",
    "import pandas as pd"
   ],
   "outputs": [],
   "metadata": {}
  },
  {
   "cell_type": "code",
   "execution_count": null,
   "source": [
    "# Logistic\r\n",
    "def model(ts: np.ndarray, mu: float, K: float, c0: float, lag: float) -> np.ndarray:\r\n",
    "    return np.array([K / (1. + (K-c0)/c0*np.exp(mu * (lag-t))) if t > lag else c0 for t in ts])\r\n",
    "\r\n",
    "# Gompertz\r\n",
    "def model(ts: np.ndarray, mu: float, K: float, c0: float, lag: float) -> np.ndarray:\r\n",
    "    return np.array([K*np.exp(np.log(c0/K)*np.exp(mu * (lag-t))) if t > lag else c0 for t in ts])"
   ],
   "outputs": [],
   "metadata": {}
  },
  {
   "cell_type": "code",
   "execution_count": null,
   "source": [
    "r_true = 0.015\r\n",
    "K_true = 2\r\n",
    "c0_true = 0.002\r\n",
    "lag_true = 200\r\n",
    "sig = 0.05\r\n",
    "\r\n",
    "n = 101\r\n",
    "ts = np.linspace(0, 1200, n)\r\n",
    "xs = model(ts, r_true, K_true, c0_true, lag_true)\r\n",
    "ys = xs * (1 + sig*np.random.randn(n))"
   ],
   "outputs": [],
   "metadata": {}
  },
  {
   "cell_type": "code",
   "execution_count": null,
   "source": [
    "plt.scatter(ts, xs)"
   ],
   "outputs": [],
   "metadata": {}
  },
  {
   "cell_type": "code",
   "execution_count": null,
   "source": [
    "mle, cov = curve_fit(model, ts, ys, p0 = [0.02, 2, 0.01, 100])\r\n",
    "r = mle[0]\r\n",
    "K = mle[1]\r\n",
    "c0 = mle[2]\r\n",
    "lag = mle[3]\r\n",
    "\r\n",
    "df = pd.DataFrame(mle, columns=['MLE'])\r\n",
    "df.insert(0, 'Names', ['r', 'K', 'c0', 'lag'])\r\n",
    "print(df)\r\n",
    "\r\n",
    "ax = plt.subplot()\r\n",
    "ax.scatter(ts, ys, c='k', s=2, label='Data')\r\n",
    "ax.plot(ts, model(ts, r, K, c0, lag), c='r', label='Model')\r\n",
    "ax.plot(ts, model(ts, r, K, c0 / 100, lag), c='b', label='Model (smaller c0)')\r\n",
    "ax.plot(ts, model(ts, r, K, c0 * 100, lag), c='g', label='Model (larger c0)')\r\n",
    "plt.legend()"
   ],
   "outputs": [],
   "metadata": {}
  },
  {
   "cell_type": "markdown",
   "source": [
    "Try fitting {r, K, c0} with lag fixed. As you vary lag, the optimizer just finds a different value for c0 that makes the model fit the data just as well."
   ],
   "metadata": {}
  },
  {
   "cell_type": "code",
   "execution_count": null,
   "source": [
    "lag = 100.0\r\n",
    "def objective1(t, r, K, c0):\r\n",
    "    return model(t, r, K, c0, lag)\r\n",
    "\r\n",
    "mle, cov = curve_fit(objective1, ts, ys, p0 = [0.02, 2, 0.01], bounds=([0,0,0], [0.1,3,0.1]))\r\n",
    "r = mle[0]\r\n",
    "K = mle[1]\r\n",
    "c0 = mle[2]\r\n",
    "\r\n",
    "df = pd.DataFrame(mle, columns=['MLE'])\r\n",
    "df.insert(0, 'Names', ['r', 'K', 'c0'])\r\n",
    "print(df)\r\n",
    "\r\n",
    "ax = plt.subplot()\r\n",
    "ax.scatter(ts, ys, c='k', s=2, label='Data')\r\n",
    "ax.plot(ts, model(ts, r, K, c0, lag), c='r', label='Model')\r\n",
    "plt.legend()"
   ],
   "outputs": [],
   "metadata": {}
  },
  {
   "cell_type": "markdown",
   "source": [
    "Save the data"
   ],
   "metadata": {}
  },
  {
   "cell_type": "code",
   "execution_count": null,
   "source": [
    "X = np.stack([ts, ys]).T\r\n",
    "np.savetxt('logistic_example_1.csv', X, delimiter=',')"
   ],
   "outputs": [],
   "metadata": {}
  },
  {
   "cell_type": "markdown",
   "source": [
    "Evaluate the objective function over a patch of values in the 2d subspace spanned by c0 and lag."
   ],
   "metadata": {}
  },
  {
   "cell_type": "code",
   "execution_count": null,
   "source": [
    "n = 151\r\n",
    "c0s = np.logspace(-5, -1, n)\r\n",
    "lags = np.linspace(0, 300, n)\r\n",
    "err = np.zeros((n, n))\r\n",
    "for i, c0 in enumerate(c0s):\r\n",
    "    for j, lag in enumerate(lags):\r\n",
    "        err[i][j] = np.linalg.norm(ys - model(ts, r_true, K_true, c0, lag))"
   ],
   "outputs": [],
   "metadata": {}
  },
  {
   "cell_type": "markdown",
   "source": [
    "Plot the surface, and compare with the true optimum"
   ],
   "metadata": {}
  },
  {
   "cell_type": "code",
   "execution_count": null,
   "source": [
    "plt.style.use(\"dark_background\")\r\n",
    "plt.contourf(c0s, lags, err, 20)\r\n",
    "plt.scatter([c0_true], [lag_true], c='r', label='True parameters')\r\n",
    "plt.xscale('log')\r\n",
    "plt.xlabel('c0')\r\n",
    "plt.ylabel('lag')\r\n",
    "plt.colorbar(label='Objective')\r\n",
    "plt.legend()\r\n"
   ],
   "outputs": [],
   "metadata": {
    "pycharm": {
     "name": "#%%\n"
    }
   }
  }
 ],
 "metadata": {
  "kernelspec": {
   "display_name": "Python 3",
   "language": "python",
   "name": "python3"
  },
  "language_info": {
   "codemirror_mode": {
    "name": "ipython",
    "version": 3
   },
   "file_extension": ".py",
   "mimetype": "text/x-python",
   "name": "python",
   "nbconvert_exporter": "python",
   "pygments_lexer": "ipython3",
   "version": "3.9.2"
  }
 },
 "nbformat": 4,
 "nbformat_minor": 4
}