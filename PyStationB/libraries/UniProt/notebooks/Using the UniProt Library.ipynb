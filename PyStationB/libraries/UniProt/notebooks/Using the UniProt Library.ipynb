{
 "cells": [
  {
   "cell_type": "code",
   "execution_count": null,
   "metadata": {},
   "outputs": [],
   "source": [
    "import pathlib\n",
    "from uniProt.protein import Protein, get_protein\n",
    "from uniProt.rdfgraph import RDFGraph\n",
    "from uniProt.location import Location, get_location\n",
    "from uniProt.api import QueryParameters, query_proteins, get_protein_graph, get_location_graph\n",
    "from uniProt.mapping import LocationIDs, TaxonomyIDs\n",
    "from uniProt.localcopy import LocalCopy"
   ]
  },
  {
   "cell_type": "code",
   "execution_count": null,
   "metadata": {},
   "outputs": [],
   "source": [
    "def print_protein_info(prot: Protein):\n",
    "    print(f\"Name: {prot.recommended_name}\")\n",
    "    print(f\"UniProt ID: {prot.uniprot_id}\")\n",
    "    print(f\"Gene: {prot.gene}\")\n",
    "    print(f\"Description: {prot.description}\")\n",
    "    print(f\"Number of Isoforms: {len(prot.isoforms)}\")\n",
    "    for isoform in prot.isoforms:\n",
    "        print(f\"-- {isoform}\")\n",
    "    print(f\"Number of Known Subcellular Locations: {len(prot.locations)}\")\n",
    "    for location in prot.locations:\n",
    "        print(f\"--{location.label}\")\n",
    "    print(f\"Protein is classified by {len(prot.keywords)} keywords.\")\n",
    "    for keyword in prot.keywords:\n",
    "        print(f\"--{keyword.label} ({keyword.keyword_type.value})\")\n",
    "\n",
    "\n",
    "def print_location_info(loc: Location):\n",
    "    print(f\"Label: {loc.label}\")\n",
    "    print(f\"UniProt ID: {loc.uniprot_id}\")\n",
    "    print(f\"Description: {loc.comment}\")\n",
    "    if loc.subclass is not None:\n",
    "        sc = get_location(loc.subclass)\n",
    "        print(f\"Subclass of {sc.label} (ID: {loc.subclass})\")\n",
    "    print(f\"Location part of {len(loc.part_of)} locations\")\n",
    "    for l_id in loc.part_of:\n",
    "        l = get_location(l_id)\n",
    "        print(f\"--{l.label} (ID: {l_id})\")\n",
    "    \n",
    "        \n",
    "def print_rdf(rdf: RDFGraph):\n",
    "    for s, p, o in rdf:\n",
    "        print(s, p, o)"
   ]
  },
  {
   "cell_type": "markdown",
   "metadata": {},
   "source": [
    "Using this library, you can get data from UniProt as a `Protein` object using the UniProt ID."
   ]
  },
  {
   "cell_type": "code",
   "execution_count": null,
   "metadata": {},
   "outputs": [],
   "source": [
    "vsvg_id = 'P03522'\n",
    "vsvg = get_protein(vsvg_id)\n",
    "print_protein_info(vsvg)"
   ]
  },
  {
   "cell_type": "code",
   "execution_count": null,
   "metadata": {},
   "outputs": [],
   "source": [
    "gfp_id = 'P42212'\n",
    "gfp = get_protein(gfp_id)\n",
    "print_protein_info(gfp)"
   ]
  },
  {
   "cell_type": "markdown",
   "metadata": {},
   "source": [
    "The `Protein` class only has a subset of data from UniProt. You can also get the entire UniProt entry as an `RDFGraph`. An `RDF` or Resource Description Framework is a family of World Wide Web Consortium specifications originally designed as a metadata data model. The `RDFGraph` contains semantic triples (subject, predicate, object). "
   ]
  },
  {
   "cell_type": "code",
   "execution_count": null,
   "metadata": {
    "scrolled": true
   },
   "outputs": [],
   "source": [
    "vsvg_rdf = get_protein_graph(vsvg_id)\n",
    "gfp_rdf = get_protein_graph(gfp_id)\n",
    "print_rdf(vsvg_rdf)"
   ]
  },
  {
   "cell_type": "markdown",
   "metadata": {},
   "source": [
    "Similarly you can also get subcellular location as a `Location` object via the UniProt ID of the location."
   ]
  },
  {
   "cell_type": "code",
   "execution_count": null,
   "metadata": {},
   "outputs": [],
   "source": [
    "virion_membrane_id = '275'\n",
    "er_id = LocationIDs.ENDOPLASMIC_RETICULUM.value\n",
    "virion_membrane = get_location(virion_membrane_id)\n",
    "er = get_location(er_id)"
   ]
  },
  {
   "cell_type": "code",
   "execution_count": null,
   "metadata": {},
   "outputs": [],
   "source": [
    "print_location_info(virion_membrane)"
   ]
  },
  {
   "cell_type": "code",
   "execution_count": null,
   "metadata": {},
   "outputs": [],
   "source": [
    "print_location_info(er)"
   ]
  },
  {
   "cell_type": "markdown",
   "metadata": {},
   "source": [
    "You can also store a local copy of the entries from UniProt using the `LocalCopy` class. The constructor of the `LocalCopy` accepts a filepath that contains downloaded copies of the entries from UniProt as well as an option to save copies of entries that are not in the local copy."
   ]
  },
  {
   "cell_type": "code",
   "execution_count": null,
   "metadata": {},
   "outputs": [],
   "source": [
    "fp = pathlib.Path('.localuniprot')\n",
    "lc = LocalCopy(filepath = fp, save_copy = True)"
   ]
  },
  {
   "cell_type": "code",
   "execution_count": null,
   "metadata": {},
   "outputs": [],
   "source": [
    "local_vsvg = lc.get_protein(vsvg_id)\n",
    "print_protein_info(local_vsvg)"
   ]
  },
  {
   "cell_type": "code",
   "execution_count": null,
   "metadata": {
    "scrolled": true
   },
   "outputs": [],
   "source": [
    "local_er = lc.get_location(er_id)\n",
    "print_location_info(local_er)"
   ]
  },
  {
   "cell_type": "markdown",
   "metadata": {},
   "source": [
    "You can also query UniProt to get a list of UniProt Protein Ids. Currently you can query Proteins based on `LocationIDs` and `TaxonomyIDs` available in `uniProt.mapping`. The following example queries UniProt to get IDs of Proteins found in the `Human` genome and are located in either `Endoplastic Reticulum` or `Nucleus`."
   ]
  },
  {
   "cell_type": "code",
   "execution_count": null,
   "metadata": {},
   "outputs": [],
   "source": [
    "taxonomies = [TaxonomyIDs.HUMAN]\n",
    "locations = [LocationIDs.ENDOPLASMIC_RETICULUM, LocationIDs.NUCLEUS]\n",
    "params = QueryParameters(reviewed = True, taxonomies = taxonomies, locations = locations)\n",
    "query_proteins(params)"
   ]
  }
 ],
 "metadata": {
  "kernelspec": {
   "display_name": "Python 3",
   "language": "python",
   "name": "python3"
  },
  "language_info": {
   "codemirror_mode": {
    "name": "ipython",
    "version": 3
   },
   "file_extension": ".py",
   "mimetype": "text/x-python",
   "name": "python",
   "nbconvert_exporter": "python",
   "pygments_lexer": "ipython3",
   "version": "3.8.5"
  }
 },
 "nbformat": 4,
 "nbformat_minor": 4
}
