{
 "cells": [
  {
   "cell_type": "markdown",
   "metadata": {
    "pycharm": {
     "name": "#%% md\n"
    }
   },
   "source": [
    "# Introduction\n",
    "In this notebook, we will load an example time series, fit a growth model\n",
    "and plot the signals.\n",
    "\n",
    "## Load example time series and config\n",
    "\n",
    "Let's start by loading example time series data."
   ]
  },
  {
   "cell_type": "code",
   "execution_count": null,
   "metadata": {
    "pycharm": {
     "name": "#%%\n"
    }
   },
   "outputs": [],
   "source": [
    "%matplotlib inline\n",
    "import pathlib\n",
    "import matplotlib.pyplot as plt\n",
    "import seaborn as sns\n",
    "import staticchar as ch\n",
    "\n",
    "dataset = ch.Dataset(\"../tests/test_data/S-shape\")\n",
    "#dataset = ch.Dataset(\"../staticchar/tests/test_data/SignificantDeath\")"
   ]
  },
  {
   "cell_type": "markdown",
   "metadata": {},
   "source": [
    "Config"
   ]
  },
  {
   "cell_type": "code",
   "execution_count": null,
   "metadata": {
    "scrolled": true
   },
   "outputs": [],
   "source": [
    "yaml_path = pathlib.Path('../tests/configs/integral_basic.yml')\n",
    "config = ch.config.load(yaml_path, ch.config.CharacterizationConfig)\n",
    "config"
   ]
  },
  {
   "cell_type": "code",
   "execution_count": null,
   "metadata": {
    "pycharm": {
     "name": "#%%\n"
    }
   },
   "outputs": [],
   "source": [
    "raw_timeseries = dataset.get_a_frame()\n",
    "raw_timeseries.head()"
   ]
  },
  {
   "cell_type": "markdown",
   "metadata": {},
   "source": [
    "As we can see, there is some non-zero signal at the beginning, which we attribute to\n",
    "the media absorbance and media fluorescence (as initially we have very low cell density)."
   ]
  },
  {
   "cell_type": "code",
   "execution_count": null,
   "metadata": {},
   "outputs": [],
   "source": [
    "colors = config.colors()\n",
    "ax = plt.subplot()\n",
    "ch.plot_signals_against_time(raw_timeseries, signals=colors.keys(), time_column=\"time\", ax=ax, colors=colors)\n",
    "ax.legend()\n",
    "sns.despine()"
   ]
  },
  {
   "cell_type": "markdown",
   "metadata": {},
   "source": [
    "## Pre-processing\n",
    "Let's assume this is the background and subtract it.\n",
    "(A more precise, but also costly alternative is to estimate this using several blanks)."
   ]
  },
  {
   "cell_type": "code",
   "execution_count": null,
   "metadata": {
    "pycharm": {
     "name": "#%%\n"
    }
   },
   "outputs": [],
   "source": [
    "subtracted = ch.subtract_background(raw_timeseries,\n",
    "                                    columns=config.background_subtract_columns(),\n",
    "                                    strategy=ch.BackgroundChoices.Minimum)\n",
    "ax = plt.subplot()\n",
    "ch.plot_signals_against_time(subtracted, signals=colors.keys(), time_column=\"time\", ax=ax, colors=colors)\n",
    "ax.legend()\n",
    "sns.despine()"
   ]
  },
  {
   "cell_type": "markdown",
   "metadata": {
    "pycharm": {
     "name": "#%% md\n"
    }
   },
   "source": [
    "### Fitting a growth model\n",
    "\n",
    "Let's fit a growth model to the OD signal."
   ]
  },
  {
   "cell_type": "code",
   "execution_count": null,
   "metadata": {
    "pycharm": {
     "name": "#%%\n"
    }
   },
   "outputs": [],
   "source": [
    "model_params = ch.LogisticModel.fit(subtracted[\"time\"], subtracted[config.growth_signal])\n",
    "model = ch.LogisticModel(model_params)\n",
    "\n",
    "# model_params = ch.GompertzModel.fit(subtracted[\"time\"], subtracted[config.growth_signal])\n",
    "# model = ch.GompertzModel(model_params)\n",
    "\n",
    "print(f\"Inferred parameters: {model_params}\")\n",
    "print(f\"Growth phase: {model.growth_period}\")\n",
    "print(f\"Time of maximal activity: {model.time_maximal_activity}\")\n",
    "print(f\"Inferred (log of) initial density: {model.initial_density(log=True)}\")\n",
    "\n",
    "ch.plot_growth_model(subtracted[\"time\"], subtracted[config.growth_signal], model=model)\n",
    "sns.despine()"
   ]
  },
  {
   "cell_type": "markdown",
   "metadata": {},
   "source": [
    "### Plotting the data\n",
    "\n",
    "Some time after the growth phase, we should observe a similar exponential production\n",
    "of the proteins. Suppose that this maturation time is about 50 minutes,\n",
    "that is about 0.85 hours.\n",
    "\n",
    "Then, fluorescence signals should be linear when drawn with respect to each other."
   ]
  },
  {
   "cell_type": "code",
   "execution_count": null,
   "metadata": {
    "pycharm": {
     "name": "#%%\n"
    }
   },
   "outputs": [],
   "source": [
    "# Add offset to the growth phase\n",
    "production_phase = model.growth_period + config.maturation_offset\n",
    "\n",
    "f, (ax1, ax2) = plt.subplots(1, 2, figsize=(12, 4))\n",
    "ch.plot_signals_against_time(subtracted, signals=colors.keys(), time_column=\"time\", ax=ax1, colors=colors)\n",
    "\n",
    "# Visualise the production phase\n",
    "ch.mark_phase(ax1, interval=production_phase, color=\"green\", alpha=0.1)\n",
    "\n",
    "ch.plot_signals_against_reference(subtracted, signals=(\"EYFP\", \"ECFP\"), reference=\"mRFP1\", colors=colors, ax=ax2)\n",
    "\n",
    "sns.despine()"
   ]
  },
  {
   "cell_type": "markdown",
   "metadata": {
    "pycharm": {
     "name": "#%% md\n"
    }
   },
   "source": [
    "### Truncate the time-series\n",
    "\n",
    "We see that this very well captures the growth phase of mRFP1 (the reference signal),\n",
    "but is a bit too late for EYFP and ECFP -- we won't have a linear dependence between\n",
    "the signals...\n",
    "\n",
    "Let's choose a more narrow interval."
   ]
  },
  {
   "cell_type": "code",
   "execution_count": null,
   "metadata": {
    "pycharm": {
     "name": "#%%\n"
    }
   },
   "outputs": [],
   "source": [
    "another_production_phase = ch.TimePeriod(reference=12, left=2, right=2)\n",
    "truncated_timeseries = ch.select_time_interval(subtracted, interval=another_production_phase)\n",
    "\n",
    "f, (ax1, ax2) = plt.subplots(1, 2, figsize=(12, 4))\n",
    "ch.plot_signals_against_time(subtracted, signals=colors.keys(), time_column=\"time\", ax=ax1, colors=colors)\n",
    "\n",
    "# Visualise the production phase\n",
    "ch.mark_phase(ax1, interval=another_production_phase, color=\"green\", alpha=0.1)\n",
    "\n",
    "ch.plot_signals_against_reference(truncated_timeseries, signals=(\"EYFP\", \"ECFP\"), reference=\"mRFP1\", colors=colors, ax=ax2)\n",
    "sns.despine()"
   ]
  },
  {
   "cell_type": "markdown",
   "metadata": {},
   "source": [
    "Run method"
   ]
  },
  {
   "cell_type": "code",
   "execution_count": null,
   "metadata": {},
   "outputs": [],
   "source": [
    "gradient_result = ch.transcriptional_activity_ratio(truncated_timeseries, \n",
    "    config.signals, \n",
    "    config.reference, \n",
    "    config.signal_properties,\n",
    "    model_params.growth_rate, \n",
    "    model.growth_period, \n",
    "    maturation_offset = config.maturation_offset\n",
    "    )    \n",
    "gradient_result"
   ]
  },
  {
   "cell_type": "markdown",
   "metadata": {},
   "source": [
    "### Integration-based characterization\n",
    "Now assume that we want to integrate the signals over the production period."
   ]
  },
  {
   "cell_type": "code",
   "execution_count": null,
   "metadata": {
    "pycharm": {
     "name": "#%%\n"
    }
   },
   "outputs": [],
   "source": [
    "ch.integrate(data=subtracted, signals=config.signals, interval=config.time_window)"
   ]
  },
  {
   "cell_type": "markdown",
   "metadata": {},
   "source": [
    "Now plot the output"
   ]
  },
  {
   "cell_type": "code",
   "execution_count": null,
   "metadata": {
    "pycharm": {
     "name": "#%%\n"
    }
   },
   "outputs": [],
   "source": [
    "f, axs = plt.subplots(1, len(config.signals), figsize=(12,4))\n",
    "for signal, ax in zip(config.signals, axs):\n",
    "    ch.plot_integration(subtracted, signal, config.time_window, ax, fillcolor=colors[signal])\n",
    "    \n",
    "sns.despine()"
   ]
  },
  {
   "cell_type": "markdown",
   "metadata": {},
   "source": [
    "## Characterize a whole plate\n",
    "Using the built-in helper methods, you can characterize a whole plate in a single call"
   ]
  },
  {
   "cell_type": "code",
   "execution_count": null,
   "metadata": {},
   "outputs": [],
   "source": [
    "plate = ch.plate.Plate(dataset, config)\n",
    "plate.characterize()\n",
    "plate.to_dataframe()"
   ]
  },
  {
   "cell_type": "markdown",
   "metadata": {},
   "source": [
    "### Use reference wells to specify time windows"
   ]
  },
  {
   "cell_type": "code",
   "execution_count": null,
   "metadata": {},
   "outputs": [],
   "source": [
    "config.reference_wells = ['064d02dd-f912-49a0-964a-5c758e92367b']\n",
    "plate = ch.plate.Plate(dataset, config)\n",
    "plate.characterize()\n",
    "plate.to_dataframe()"
   ]
  },
  {
   "cell_type": "code",
   "execution_count": null,
   "metadata": {},
   "outputs": [],
   "source": [
    "time_window = config.time_window\n",
    "f, axs = plt.subplots(len(config.signals), len(dataset), sharex=True, figsize=(10,5))\n",
    "for signal, axr in zip(config.signals, axs):\n",
    "    for i, (key, frame) in enumerate(dataset.items()):\n",
    "        subtracted = ch.preprocessing.subtract_background(frame, columns=config.background_subtract_columns(), strategy=ch.preprocessing.BackgroundChoices.Minimum)\n",
    "        time_window.reference = plate.reference_time\n",
    "        ch.plot_integration(subtracted, signal, time_window, axr[i], fillcolor=colors[signal])\n",
    "plt.tight_layout()\n",
    "sns.despine()"
   ]
  }
 ],
 "metadata": {
  "kernelspec": {
   "display_name": "PyStationB",
   "language": "python",
   "name": "pystationb"
  },
  "language_info": {
   "codemirror_mode": {
    "name": "ipython",
    "version": 3
   },
   "file_extension": ".py",
   "mimetype": "text/x-python",
   "name": "python",
   "nbconvert_exporter": "python",
   "pygments_lexer": "ipython3",
   "version": "3.8.3"
  }
 },
 "nbformat": 4,
 "nbformat_minor": 1
}
